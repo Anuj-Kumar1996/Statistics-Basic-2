{
 "cells": [
  {
   "cell_type": "markdown",
   "id": "b67ddec7",
   "metadata": {},
   "source": [
    "# Q1. What are the three measures of central tendency?\n",
    "\n",
    "1) Mean \n",
    "2) Mode\n",
    "3) median"
   ]
  },
  {
   "cell_type": "markdown",
   "id": "be465160",
   "metadata": {},
   "source": [
    "# Q.2 What is the difference between the mean, median, and mode? How are they used to measure the central tendency of a dataset?\n",
    "\n",
    "The mean is the average where the sum of all the numbers is divided by the total number of numbers, whereas the median is the middle value in the list of given numbers numerically ordered from smallest to biggest and mode is the value of the number which occurs most often in the list."
   ]
  },
  {
   "cell_type": "markdown",
   "id": "c0c23b3e",
   "metadata": {},
   "source": [
    "# Q3. Measure the three measures of central tendency for the given height data:\n",
    " [178,177,176,177,178.2,178,175,179,180,175,178.9,176.2,177,172.5,178,176.5]\n",
    " \n"
   ]
  },
  {
   "cell_type": "code",
   "execution_count": 1,
   "id": "4631dc79",
   "metadata": {},
   "outputs": [],
   "source": [
    "import numpy as np \n",
    "x = [178,177,176,177,178.2,178,175,179,180,175,178.9,176.2,177,172.5,178,176.5]"
   ]
  },
  {
   "cell_type": "code",
   "execution_count": 3,
   "id": "d9b77114",
   "metadata": {},
   "outputs": [
    {
     "data": {
      "text/plain": [
       "177.01875"
      ]
     },
     "execution_count": 3,
     "metadata": {},
     "output_type": "execute_result"
    }
   ],
   "source": [
    "np.mean(x)\n"
   ]
  },
  {
   "cell_type": "code",
   "execution_count": 4,
   "id": "da230131",
   "metadata": {},
   "outputs": [
    {
     "data": {
      "text/plain": [
       "177.0"
      ]
     },
     "execution_count": 4,
     "metadata": {},
     "output_type": "execute_result"
    }
   ],
   "source": [
    "np.median(x)"
   ]
  },
  {
   "cell_type": "code",
   "execution_count": 7,
   "id": "90e3af62",
   "metadata": {},
   "outputs": [],
   "source": [
    "from scipy import stats"
   ]
  },
  {
   "cell_type": "code",
   "execution_count": 8,
   "id": "72da5fbc",
   "metadata": {},
   "outputs": [
    {
     "name": "stderr",
     "output_type": "stream",
     "text": [
      "C:\\Users\\91971\\AppData\\Local\\Temp\\ipykernel_17980\\1654510724.py:1: FutureWarning: Unlike other reduction functions (e.g. `skew`, `kurtosis`), the default behavior of `mode` typically preserves the axis it acts along. In SciPy 1.11.0, this behavior will change: the default value of `keepdims` will become False, the `axis` over which the statistic is taken will be eliminated, and the value None will no longer be accepted. Set `keepdims` to True or False to avoid this warning.\n",
      "  stats.mode(x)\n"
     ]
    },
    {
     "data": {
      "text/plain": [
       "ModeResult(mode=array([177.]), count=array([3]))"
      ]
     },
     "execution_count": 8,
     "metadata": {},
     "output_type": "execute_result"
    }
   ],
   "source": [
    "stats.mode(x)"
   ]
  },
  {
   "cell_type": "markdown",
   "id": "ee0ce624",
   "metadata": {},
   "source": [
    "Range:\n",
    "The range is the simplest measure of dispersion and is calculated as the difference between the maximum and minimum values in the dataset. It gives an idea of the total spread of the data. However, it doesn't take into account the distribution of values between the minimum and maximum.\n",
    "Example:\n",
    "Consider the following dataset representing the scores of students in a mathematics test:\n",
    "{85, 72, 90, 78, 92, 68}\n",
    "\n",
    "The range = maximum value - minimum value = 92 - 68 = 24\n",
    "The range tells us that the scores vary by 24 points from the lowest to the highest.\n",
    "\n",
    "Variance:\n",
    "Variance is a measure that takes into account the dispersion of all data points from the mean of the dataset. It calculates the average of the squared differences between each data point and the mean. A higher variance indicates greater variability in the data.\n",
    "Example:\n",
    "Using the same dataset as before, we calculate the variance as follows:\n",
    "Step 1: Calculate the mean:\n",
    "Mean = (85 + 72 + 90 + 78 + 92 + 68) / 6 = 81.67 (rounded to two decimal places)\n",
    "\n",
    "Step 2: Calculate the squared differences from the mean:\n",
    "(85 - 81.67)^2 ≈ 11.11\n",
    "(72 - 81.67)^2 ≈ 93.46\n",
    "(90 - 81.67)^2 ≈ 69.56\n",
    "(78 - 81.67)^2 ≈ 13.51\n",
    "(92 - 81.67)^2 ≈ 1.74\n",
    "(68 - 81.67)^2 ≈ 84.53\n",
    "\n",
    "Step 3: Calculate the variance:\n",
    "Variance = (11.11 + 93.46 + 69.56 + 13.51 + 1.74 + 84.53) / 6 ≈ 54.58 (rounded to two decimal places)\n",
    "\n",
    "The variance is approximately 54.58.\n",
    "\n",
    "Standard Deviation:\n",
    "The standard deviation is the square root of the variance. It is used to measure the average amount of variation or dispersion of data points from the mean. It gives a more interpretable measure of spread compared to variance because it is in the same unit as the data.\n",
    "Example:\n",
    "Continuing from the previous example, the standard deviation is the square root of the variance:\n",
    "Standard deviation ≈ √54.58 ≈ 7.38 (rounded to two decimal places)\n",
    "\n",
    "The standard deviation is approximately 7.38."
   ]
  },
  {
   "cell_type": "markdown",
   "id": "8c754928",
   "metadata": {},
   "source": [
    "Q What is a Venn diagram?\n",
    "  \n",
    "    A Venn diagram is a graphical representation of the relationships between different sets."
   ]
  },
  {
   "cell_type": "markdown",
   "id": "61e43b62",
   "metadata": {},
   "source": [
    "Q7. For the two given sets A = (2,3,4,5,6,7) & B = (0,2,6,8,10). Find:\n",
    "(i) A B\n",
    "(ii) A ⋃ B\n",
    "\n",
    "\n",
    "(1) (2,6)\n",
    "(ii) A ⋃ B = (0,2,3,4,5,6,7,8,10)"
   ]
  },
  {
   "cell_type": "markdown",
   "id": "f551e622",
   "metadata": {},
   "source": [
    "    Q What do you understand about skewness in data?\n",
    "Skewness is a measure of the asymmetry of a distribution. A distribution is asymmetrical when its left and right side are not mirror images."
   ]
  },
  {
   "cell_type": "markdown",
   "id": "a92cda7f",
   "metadata": {},
   "source": [
    "Q9. If a data is right skewed then what will be the position of median with respect to mean?\n",
    "\n",
    "The median will be less than the mean"
   ]
  },
  {
   "cell_type": "markdown",
   "id": "ee30f47d",
   "metadata": {},
   "source": [
    "Q11. What is the formula for calculating the sample mean? Provide an example calculation for a\n",
    "dataset.\n",
    "The sample mean formula is: x̄= (x1 + X2 + .......Xn)/n"
   ]
  },
  {
   "cell_type": "code",
   "execution_count": null,
   "id": "6f81e1e5",
   "metadata": {},
   "outputs": [],
   "source": []
  }
 ],
 "metadata": {
  "kernelspec": {
   "display_name": "Python 3 (ipykernel)",
   "language": "python",
   "name": "python3"
  },
  "language_info": {
   "codemirror_mode": {
    "name": "ipython",
    "version": 3
   },
   "file_extension": ".py",
   "mimetype": "text/x-python",
   "name": "python",
   "nbconvert_exporter": "python",
   "pygments_lexer": "ipython3",
   "version": "3.9.13"
  }
 },
 "nbformat": 4,
 "nbformat_minor": 5
}
